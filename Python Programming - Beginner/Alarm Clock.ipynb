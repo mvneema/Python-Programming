{
 "cells": [
  {
   "cell_type": "code",
   "execution_count": 1,
   "metadata": {},
   "outputs": [],
   "source": [
    "#Alarm clock "
   ]
  },
  {
   "cell_type": "code",
   "execution_count": null,
   "metadata": {},
   "outputs": [],
   "source": [
    "\n",
    "#pip install playsound\n",
    "from datetime import datetime\n",
    "from playsound import playsound\n",
    "time_entered= raw_input(input(\"enter your alarm time:\"))\n",
    "\n",
    "def validate(time_entered):\n",
    "    if len(time_entered)=!11 :\n",
    "        return \"not a time\"\n",
    "    elif int(time_entered[0:2])>12:\n",
    "        return \"invalid hour format\"\n",
    "    elif int(time_entered[3:5])>59:\n",
    "        return \"invalid minutes format\"\n",
    "    elif int(time_entered[6:8])>59:\n",
    "        return \"invlid seconds format\"\n",
    "    else: return \"ok\"\n",
    "\n",
    "validate = validate(time_entered)\n",
    "if validate!=\"ok\":\n",
    "    print(validate)\n",
    "else:\n",
    "    print(\"setting alarm for {time_entered}\")\n",
    "    \n",
    "alarm_hour = time_entered[0:2]\n",
    "alarm_minutes = time_entered[3:5]\n",
    "alarm_seconds = time_entered[6:8]\n",
    "alarm_period = time_entered[9:].upper()\n",
    "\n",
    "while True:\n",
    "    \n",
    "\n",
    "    current_time = datetime.now()\n",
    "    current_hour = current_time.strftime(\"%I\")\n",
    "    current_minutes = current_time.strftime(\"%M\")\n",
    "    current_seconds = current_time.strftime(\"%S\")\n",
    "    current_period = current_time[9:].strftime(\"%p\")\n",
    "\n",
    "    if alarm_period == current_period:\n",
    "        if alarm_hour == current_hour:\n",
    "            if alarm_minutes == current_minutes:\n",
    "                if alarm_seconds == current_seconds:\n",
    "                    print(\"Wake up!\")\n",
    "                    playsound(\"pathname\")\n",
    "                    break"
   ]
  }
 ],
 "metadata": {
  "kernelspec": {
   "display_name": "Python 3",
   "language": "python",
   "name": "python3"
  },
  "language_info": {
   "codemirror_mode": {
    "name": "ipython",
    "version": 3
   },
   "file_extension": ".py",
   "mimetype": "text/x-python",
   "name": "python",
   "nbconvert_exporter": "python",
   "pygments_lexer": "ipython3",
   "version": "3.7.4"
  }
 },
 "nbformat": 4,
 "nbformat_minor": 2
}
