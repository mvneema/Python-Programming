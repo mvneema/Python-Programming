{
 "cells": [
  {
   "cell_type": "markdown",
   "metadata": {},
   "source": [
    "Popularity Percentage\n",
    "\n",
    "Find the popularity percentage for each user on Meta/Facebook. The popularity percentage is defined as the total number of friends the user has divided by the total number of users on the platform, then converted into a percentage by multiplying by 100.\n",
    "Output each user along with their popularity percentage. Order records in ascending order by user id.\n",
    "The 'user1' and 'user2' column are pairs of friends."
   ]
  },
  {
   "cell_type": "markdown",
   "metadata": {},
   "source": [
    "Approach:\n",
    "- Get the count of unique user from both user1 and user 2 by concatenating both columns together using np.concatenate then selecting unique values using np.unique()\n",
    "- Use len() to count the number of values or objects\n",
    "- Create a dataframe with inverted column names (user1 as user2, user2 as user1) then concatenate this with the original df using pd.concat()\n",
    "- Use drop_duplicates() to get the distinct values\n",
    "- Use .groupby(column_name) to group the dataframe about the specifed column and use size() to get the number of elements in the specified column\n",
    "- Create a new column by multiplying the count or size by 100 and dividing it by the count of unique users for both user1 and user2"
   ]
  },
  {
   "cell_type": "code",
   "execution_count": null,
   "metadata": {},
   "outputs": [],
   "source": [
    "# Import your libraries\n",
    "import pandas as pd\n",
    "import numpy as np\n",
    "\n",
    "# Start writing code\n",
    "facebook_friends.head()\n",
    "\n",
    "\n",
    "tot_users = len(np.unique(np.concatenate([facebook_friends.user1.values, facebook_friends.user2.values])))\n",
    "\n",
    "user_friends = facebook_friends.rename(columns ={'user1':'user2', 'user2':'user1'})\n",
    "final = pd.concat([facebook_friends, user_friends], sort = False).drop_duplicates()\n",
    "result = final.groupby('user1').size().to_frame('count').reset_index()\n",
    "result['popularity_perc'] = 100*(result['count']/tot_users)\n",
    "\n",
    "print(result)"
   ]
  }
 ],
 "metadata": {
  "kernelspec": {
   "display_name": "Python 3",
   "language": "python",
   "name": "python3"
  },
  "language_info": {
   "codemirror_mode": {
    "name": "ipython",
    "version": 3
   },
   "file_extension": ".py",
   "mimetype": "text/x-python",
   "name": "python",
   "nbconvert_exporter": "python",
   "pygments_lexer": "ipython3",
   "version": "3.7.4"
  }
 },
 "nbformat": 4,
 "nbformat_minor": 2
}
