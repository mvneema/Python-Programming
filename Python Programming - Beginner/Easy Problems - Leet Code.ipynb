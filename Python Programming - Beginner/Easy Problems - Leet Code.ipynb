{
 "cells": [
  {
   "cell_type": "markdown",
   "metadata": {},
   "source": [
    "### Array:"
   ]
  },
  {
   "cell_type": "markdown",
   "metadata": {},
   "source": [
    "1. Best Time to Buy and Sell Stock II"
   ]
  },
  {
   "cell_type": "markdown",
   "metadata": {},
   "source": [
    "You are given an integer array prices where prices[i] is the price of a given stock on the ith day.\n",
    "\n",
    "On each day, you may decide to buy and/or sell the stock. You can only hold at most one share of the stock at any time. However, you can buy it then immediately sell it on the same day.\n",
    "\n",
    "Find and return the maximum profit you can achieve."
   ]
  },
  {
   "cell_type": "markdown",
   "metadata": {},
   "source": [
    "Example:\n",
    "- Input: prices = [7,1,5,3,6,4]\n",
    "- Output: 7\n",
    "\n",
    "Explanation: Buy on day 2 (price = 1) and sell on day 3 (price = 5), profit = 5-1 = 4.\n",
    "Then buy on day 4 (price = 3) and sell on day 5 (price = 6), profit = 6-3 = 3.\n",
    "Total profit is 4 + 3 = 7."
   ]
  },
  {
   "cell_type": "code",
   "execution_count": null,
   "metadata": {},
   "outputs": [],
   "source": [
    "#pseudocode\n",
    "#keep a counter and store in the highest number after comparing price[i] and price[i+1] then subtract p[i] and p[i+1] and \n",
    "#store in counter similar till range(len(price))\n",
    "#run time is O(n) and space O(n)\n",
    "\n",
    "#def buy_sell_stock(price):\n",
    "#    profit = 0 \n",
    "#    for i in range(len(price)):\n",
    "#        if price[i+1]>price[i]:\n",
    "#            diff = price[i+1]-price[i]\n",
    "#            profit = profit+diff\n",
    "            \n",
    "#    return profit"
   ]
  },
  {
   "cell_type": "code",
   "execution_count": null,
   "metadata": {},
   "outputs": [],
   "source": [
    "class Solution(object):\n",
    "    def maxProfit(self, prices):\n",
    "        \"\"\"\n",
    "        :type prices: List[int]\n",
    "        :rtype: int\n",
    "        \"\"\"\n",
    "        l,r=0,1\n",
    "        total=0\n",
    "        while r<len(prices):\n",
    "            if prices[l]<prices[r]:\n",
    "                value = prices[r] - prices[l]\n",
    "                total+=value\n",
    "                l+=1\n",
    "            else:l=r\n",
    "            r+=1\n",
    "        return total"
   ]
  },
  {
   "cell_type": "markdown",
   "metadata": {},
   "source": [
    "2. Rotate Array\n",
    "\n",
    "Given an array, rotate the array to the right by k steps, where k is non-negative.\n",
    "\n",
    " Example: \n",
    "- Input: nums = [1,2,3,4,5,6,7], k = 3\n",
    "- Output: [5,6,7,1,2,3,4]\n",
    "\n",
    "Explanation:\n",
    "- rotate 1 steps to the right: [7,1,2,3,4,5,6]\n",
    "- rotate 2 steps to the right: [6,7,1,2,3,4,5]\n",
    "- rotate 3 steps to the right: [5,6,7,1,2,3,4]"
   ]
  },
  {
   "cell_type": "code",
   "execution_count": 12,
   "metadata": {},
   "outputs": [],
   "source": [
    "#pseudocode:\n",
    "#count value is k \n",
    "def rotate_array(lst,k):\n",
    "    arr = []\n",
    "    n = len(lst)\n",
    "    arr = lst[n-k:]+lst[:n-k]\n",
    "    return arr        "
   ]
  },
  {
   "cell_type": "code",
   "execution_count": 13,
   "metadata": {},
   "outputs": [
    {
     "name": "stdout",
     "output_type": "stream",
     "text": [
      "[5, 6, 7, 1, 2, 3, 4]\n"
     ]
    }
   ],
   "source": [
    "num = [1,2,3,4,5,6,7]\n",
    "k = 3\n",
    "print(rotate_array(num,k))"
   ]
  },
  {
   "cell_type": "markdown",
   "metadata": {},
   "source": [
    "3. Contains Duplicate\n",
    "\n",
    "Given an integer array nums, return true if any value appears at least twice in the array, and return false if every element is distinct.\n",
    "\n",
    "Example:\n",
    "- Input: nums = [1,2,3,1]\n",
    "- Output: true"
   ]
  },
  {
   "cell_type": "code",
   "execution_count": 16,
   "metadata": {},
   "outputs": [
    {
     "name": "stdout",
     "output_type": "stream",
     "text": [
      "True\n"
     ]
    }
   ],
   "source": [
    "#pseudocode:\n",
    "#if is unique then return true else false\n",
    "\n",
    "def contains_duplicate(nums):\n",
    "    return (len(nums)!=len(set(nums)))\n",
    "\n",
    "nums = [1,2,3,1]\n",
    "print(contains_duplicate(nums))\n",
    "    "
   ]
  },
  {
   "cell_type": "markdown",
   "metadata": {},
   "source": [
    "4. Single Number:\n",
    "\n",
    "Given a non-empty array of integers nums, every element appears twice except for one. Find that single one.\n",
    "\n",
    "You must implement a solution with a linear runtime complexity and use only constant extra space.\n",
    "\n",
    "* Input: nums = [2,2,1]\n",
    "* Output: 1"
   ]
  },
  {
   "cell_type": "code",
   "execution_count": 6,
   "metadata": {},
   "outputs": [],
   "source": [
    "#Pseudo code:\n",
    "#for linearity it should transverse only once\n",
    "#simnce only one number tobe returned no need to store that element just return \n",
    "\n",
    "\n"
   ]
  },
  {
   "cell_type": "code",
   "execution_count": 5,
   "metadata": {},
   "outputs": [
    {
     "name": "stdout",
     "output_type": "stream",
     "text": [
      "1\n"
     ]
    }
   ],
   "source": [
    "#Good solution:\n",
    "from typing import List\n",
    "def singleNumber(nums):\n",
    "    ans = 0\n",
    "    for n in nums:\n",
    "        ans ^= n\n",
    "    return ans\n",
    "    \n",
    "nums = [2,2,1]\n",
    "print(singleNumber(nums))"
   ]
  },
  {
   "cell_type": "markdown",
   "metadata": {},
   "source": [
    "5. Intersection of Two Arrays II:\n",
    "\n",
    "Given two integer arrays nums1 and nums2, return an array of their intersection. Each element in the result must appear as many times as it shows in both arrays and you may return the result in any order.\n",
    "\n",
    "* Input: nums1 = [1,2,2,1], nums2 = [2,2]\n",
    "* Output: [2,2]"
   ]
  },
  {
   "cell_type": "code",
   "execution_count": null,
   "metadata": {},
   "outputs": [],
   "source": [
    "#pseudo\n",
    "#if len(nums1)>len(num2) then for num in num1 and if num in num2 then ans.append(num) else altrnate \n",
    "\n",
    "\n",
    "def intersect(self, nums1, nums2):\n",
    "    counts = collections.Counter(nums1)\n",
    "    res = []\n",
    "    \n",
    "    for num in nums2:\n",
    "        if counts[num] > 0:\n",
    "            res.append(num)\n",
    "            counts[num] -= 1\n",
    "    return res\n"
   ]
  },
  {
   "cell_type": "markdown",
   "metadata": {},
   "source": [
    "6. Plus One:\n",
    "\n",
    "You are given a large integer represented as an integer array digits, where each digits[i] is the ith digit of the integer. The digits are ordered from most significant to least significant in left-to-right order. The large integer does not contain any leading 0's.\n",
    "\n",
    "Increment the large integer by one and return the resulting array of digits.\n",
    "\n",
    " \n",
    "\n",
    "Example 1:\n",
    "\n",
    "* Input: digits = [1,2,3]\n",
    "* Output: [1,2,4]\n",
    "* Explanation: The array represents the integer 123.\n",
    "* Incrementing by one gives 123 + 1 = 124.\n",
    "* Thus, the result should be [1,2,4]."
   ]
  },
  {
   "cell_type": "code",
   "execution_count": 7,
   "metadata": {},
   "outputs": [
    {
     "name": "stdout",
     "output_type": "stream",
     "text": [
      "[1, 2, 4]\n"
     ]
    }
   ],
   "source": [
    "#pseudo: split.join(digits[i]) and store in sum = sum+1 and split and append\n",
    "\n",
    "def plusone(digits):\n",
    "    num = int(\"\".join(map(str, digits)))\n",
    "    num= num+1\n",
    "    ans = [int(d) for d in str(num)]\n",
    "    return ans\n",
    "\n",
    "print(plusone([1,2,3]))\n",
    "    "
   ]
  },
  {
   "cell_type": "markdown",
   "metadata": {},
   "source": [
    "7. Two Sum:\n",
    "\n",
    "Given an array of integers nums and an integer target, return indices of the two numbers such that they add up to target.\n",
    "\n",
    "You may assume that each input would have exactly one solution, and you may not use the same element twice.\n",
    "\n",
    "You can return the answer in any order.\n",
    "\n",
    " \n",
    "\n",
    "Example 1:\n",
    "\n",
    "* Input: nums = [2,7,11,15], target = 9\n",
    "* Output: [0,1]\n",
    "* Explanation: Because nums[0] + nums[1] == 9, we return [0, 1]."
   ]
  },
  {
   "cell_type": "code",
   "execution_count": 17,
   "metadata": {},
   "outputs": [
    {
     "name": "stdout",
     "output_type": "stream",
     "text": [
      "[1, 2]\n"
     ]
    }
   ],
   "source": [
    "def two_sums(nums,target):\n",
    "    values = {}\n",
    "    for i,value in enumerate(nums):\n",
    "        \n",
    "        if target-value in values:\n",
    "            return [values[target-value],i]\n",
    "        else:\n",
    "            values[value] = i\n",
    "        \n",
    "        \n",
    "print(two_sums([3,2,4],6))"
   ]
  },
  {
   "cell_type": "markdown",
   "metadata": {},
   "source": [
    "8. Valid Sudoku:\n",
    "\n",
    "Determine if a 9 x 9 Sudoku board is valid. Only the filled cells need to be validated according to the following rules:\n",
    "\n",
    "Each row must contain the digits 1-9 without repetition.\n",
    "Each column must contain the digits 1-9 without repetition.\n",
    "Each of the nine 3 x 3 sub-boxes of the grid must contain the digits 1-9 without repetition.\n",
    "Note:\n",
    "\n",
    "A Sudoku board (partially filled) could be valid but is not necessarily solvable.\n",
    "Only the filled cells need to be validated according to the mentioned rules.\n"
   ]
  },
  {
   "cell_type": "code",
   "execution_count": null,
   "metadata": {},
   "outputs": [],
   "source": [
    "def isValidSudoku(self, board):\n",
    "    return (self.is_row_valid(board) and\n",
    "            self.is_col_valid(board) and\n",
    "            self.is_square_valid(board))\n",
    "\n",
    "def is_row_valid(self, board):\n",
    "    for row in board:\n",
    "        if not self.is_unit_valid(row):\n",
    "            return False\n",
    "    return True\n",
    "\n",
    "def is_col_valid(self, board):\n",
    "    for col in zip(*board):\n",
    "        if not self.is_unit_valid(col):\n",
    "            return False\n",
    "    return True\n",
    "    \n",
    "def is_square_valid(self, board):\n",
    "    for i in (0, 3, 6):\n",
    "        for j in (0, 3, 6):\n",
    "            square = [board[x][y] for x in range(i, i + 3) for y in range(j, j + 3)]\n",
    "            if not self.is_unit_valid(square):\n",
    "                return False\n",
    "    return True\n",
    "    \n",
    "def is_unit_valid(self, unit):\n",
    "    unit = [i for i in unit if i != '.']\n",
    "    return len(set(unit)) == len(unit)"
   ]
  },
  {
   "cell_type": "markdown",
   "metadata": {},
   "source": [
    "9. Rotate Image:\n",
    "\n",
    "You are given an n x n 2D matrix representing an image, rotate the image by 90 degrees (clockwise).\n",
    "\n",
    "You have to rotate the image in-place, which means you have to modify the input 2D matrix directly. DO NOT allocate another 2D matrix and do the rotation.\n",
    "\n",
    "* Input: matrix = [[1,2,3],[4,5,6],[7,8,9]]\n",
    "* Output: [[7,4,1],[8,5,2],[9,6,3]]"
   ]
  },
  {
   "cell_type": "markdown",
   "metadata": {},
   "source": [
    "We want to rotate\n",
    "[1,2,3],\n",
    "[4,5,6],\n",
    "[7,8,9]\n",
    "->\n",
    "[7,4,1],\n",
    "[8,5,2],\n",
    "[9,6,3]]\n",
    "\n",
    "We can do this in two steps.\n",
    "Reversing the matrix does this:\n",
    "[1,2,3],\n",
    "[4,5,6],\n",
    "[7,8,9]]\n",
    "->\n",
    "[7, 8, 9],\n",
    "[4, 5, 6],\n",
    "[1, 2, 3]\n",
    "\n",
    "Transposing means: rows become columns, columns become rows.\n",
    "\n",
    "[7, 8, 9],\n",
    "[4, 5, 6],\n",
    "[1, 2, 3]\n",
    "->\n",
    "[7,4,1],\n",
    "[8,5,2],\n",
    "[9,6,3]"
   ]
  },
  {
   "cell_type": "code",
   "execution_count": null,
   "metadata": {},
   "outputs": [],
   "source": [
    "# reverse\n",
    "l = 0\n",
    "r = len(matrix) -1\n",
    "while l < r:\n",
    "\tmatrix[l], matrix[r] = matrix[r], matrix[l]\n",
    "\tl += 1\n",
    "\tr -= 1\n",
    "# transpose \n",
    "for i in range(len(matrix)):\n",
    "\tfor j in range(i):\n",
    "\t\tmatrix[i][j], matrix[j][i] = matrix[j][i], matrix[i][j]"
   ]
  },
  {
   "cell_type": "markdown",
   "metadata": {},
   "source": [
    "### Strings"
   ]
  },
  {
   "cell_type": "markdown",
   "metadata": {},
   "source": [
    "1. Reverse String:\n",
    "\n",
    "Write a function that reverses a string. The input string is given as an array of characters s.\n",
    "\n",
    "You must do this by modifying the input array in-place with O(1) extra memory.\n",
    "\n",
    "Example 1:\n",
    "\n",
    "* Input: s = [\"h\",\"e\",\"l\",\"l\",\"o\"]\n",
    "* Output: [\"o\",\"l\",\"l\",\"e\",\"h\"]"
   ]
  },
  {
   "cell_type": "code",
   "execution_count": 32,
   "metadata": {},
   "outputs": [
    {
     "name": "stdout",
     "output_type": "stream",
     "text": [
      "olleh\n"
     ]
    }
   ],
   "source": [
    "def reverseString( s):\n",
    "    r = list(s)\n",
    "    i, j  = 0, len(r) - 1\n",
    "    while i < j:\n",
    "        r[i], r[j] = r[j], r[i]\n",
    "        i += 1\n",
    "        j -= 1\n",
    "\n",
    "    return \"\".join(r)\n",
    "    \n",
    "print(reverseString([\"h\",\"e\",\"l\",\"l\",\"o\"]))"
   ]
  },
  {
   "cell_type": "markdown",
   "metadata": {},
   "source": [
    "2. Reverse Integer:\n",
    "\n",
    "Given a signed 32-bit integer x, return x with its digits reversed. If reversing x causes the value to go outside the signed 32-bit integer range [-231, 231 - 1], then return 0.\n",
    "\n",
    "Assume the environment does not allow you to store 64-bit integers (signed or unsigned).\n",
    "\n",
    "* Input: x = 123\n",
    "* Output: 321\n",
    " "
   ]
  },
  {
   "cell_type": "code",
   "execution_count": 37,
   "metadata": {},
   "outputs": [
    {
     "name": "stdout",
     "output_type": "stream",
     "text": [
      "21\n"
     ]
    }
   ],
   "source": [
    "def reverse(x):\n",
    "    sign = [1,-1][x < 0] #sign value if x >0 or x<0\n",
    "    rst = sign * int(str(abs(x))[::-1])\n",
    "    return rst if -(2**31)-1 < rst < 2**31 else 0 #if reverse going out of 32 bit integer range \n",
    "\n",
    "print(reverse(120))"
   ]
  },
  {
   "cell_type": "markdown",
   "metadata": {},
   "source": [
    "3. First Unique Character in a String:\n",
    "\n",
    "Given a string s, find the first non-repeating character in it and return its index. If it does not exist, return -1.\n",
    "\n",
    "Example 1:\n",
    "\n",
    "* Input: s = \"leetcode\"\n",
    "* Output: 0"
   ]
  },
  {
   "cell_type": "code",
   "execution_count": 1,
   "metadata": {},
   "outputs": [
    {
     "name": "stdout",
     "output_type": "stream",
     "text": [
      "0\n"
     ]
    }
   ],
   "source": [
    "#pseudocode: using set variable and using dict enumerate(s) then return i when count <2\n",
    "\n",
    "def firstUniqChar(s):\n",
    "    d = {}\n",
    "    seen = set()\n",
    "    for idx, c in enumerate(s):\n",
    "        if c not in seen:\n",
    "            d[c] = idx\n",
    "            seen.add(c)\n",
    "        elif c in d:\n",
    "            del d[c]\n",
    "    return min(d.values()) if d else -1\n",
    "\n",
    "print(firstUniqChar(\"leetcode\"))"
   ]
  },
  {
   "cell_type": "markdown",
   "metadata": {},
   "source": [
    "4. Valid Anagram:\n",
    "\n",
    "Given two strings s and t, return true if t is an anagram of s, and false otherwise.\n",
    "\n",
    "An Anagram is a word or phrase formed by rearranging the letters of a different word or phrase, typically using all the original letters exactly once.\n",
    "\n",
    "Example 1:\n",
    "\n",
    "* Input: s = \"anagram\", t = \"nagaram\"\n",
    "* Output: true"
   ]
  },
  {
   "cell_type": "code",
   "execution_count": 2,
   "metadata": {},
   "outputs": [],
   "source": [
    "#single liner solution:\n",
    "\n",
    "def isAnagram_count(self, s, t):\n",
    "    return collections.Counter(s) == collections.Counter(t)\n",
    "\n",
    "#solution using dict using O(N)\n",
    "def isAnagram_dict(self, s, t):\n",
    "    dic1, dic2 = {}, {}\n",
    "    for item in s:\n",
    "        dic1[item] = dic1.get(item, 0) + 1\n",
    "    for item in t:\n",
    "        dic2[item] = dic2.get(item, 0) + 1\n",
    "    return dic1 == dic2\n",
    "    \n",
    "#solution using sorting -> O(NlogN)    \n",
    "def isAnagram_sort(self, s, t):\n",
    "    return sorted(s) == sorted(t)"
   ]
  },
  {
   "cell_type": "markdown",
   "metadata": {},
   "source": [
    "5. Valid Palindrome: \n",
    "\n",
    "A phrase is a palindrome if, after converting all uppercase letters into lowercase letters and removing all non-alphanumeric characters, it reads the same forward and backward. Alphanumeric characters include letters and numbers.\n",
    "\n",
    "Given a string s, return true if it is a palindrome, or false otherwise.\n",
    "\n",
    "* Input: s = \"A man, a plan, a canal: Panama\"\n",
    "* Output: true\n",
    "* Explanation: \"amanaplanacanalpanama\" is a palindrome."
   ]
  },
  {
   "cell_type": "code",
   "execution_count": 9,
   "metadata": {},
   "outputs": [
    {
     "name": "stdout",
     "output_type": "stream",
     "text": [
      "True\n"
     ]
    }
   ],
   "source": [
    "#pseudocode: using the reverse function and check if both strings are equal\n",
    "#O(N) solution\n",
    "def ispalindrome(s):\n",
    "    s = ''.join(e for e in s if e.isalnum()).lower()\n",
    "    return s == s[::-1]\n",
    "\n",
    " \n",
    "print(ispalindrome('A man, a plan, a canal: Panama'))"
   ]
  },
  {
   "cell_type": "markdown",
   "metadata": {},
   "source": [
    "6. Implement strStr():\n",
    "\n",
    "Return the index of the first occurrence of needle in haystack, or -1 if needle is not part of haystack.\n",
    "\n",
    "Clarification:\n",
    "\n",
    "What should we return when needle is an empty string? This is a great question to ask during an interview.\n",
    "\n",
    "For the purpose of this problem, we will return 0 when needle is an empty string. This is consistent to C's strstr() and Java's indexOf().\n",
    "\n",
    " Example 1:\n",
    "\n",
    "* Input: haystack = \"hello\", needle = \"ll\"\n",
    "* Output: 2"
   ]
  },
  {
   "cell_type": "code",
   "execution_count": 15,
   "metadata": {},
   "outputs": [
    {
     "name": "stdout",
     "output_type": "stream",
     "text": [
      "2\n"
     ]
    }
   ],
   "source": [
    "def strStr(s, t):\n",
    "    for i in range(len(s)-len(t)+1):\n",
    "        if s[i] != t[0]:\n",
    "            continue\n",
    "        if s[i:i+len(t)] == t:\n",
    "            return i\n",
    "        \n",
    "print(strStr('hello','ll'))"
   ]
  },
  {
   "cell_type": "markdown",
   "metadata": {},
   "source": [
    "7. String to Integer (atoi):\n",
    "\n",
    "Implement the myAtoi(string s) function, which converts a string to a 32-bit signed integer (similar to C/C++'s atoi function).\n",
    "\n",
    "The algorithm for myAtoi(string s) is as follows:\n",
    "\n",
    "Read in and ignore any leading whitespace.\n",
    "Check if the next character (if not already at the end of the string) is '-' or '+'. Read this character in if it is either. This determines if the final result is negative or positive respectively. Assume the result is positive if neither is present.\n",
    "Read in next the characters until the next non-digit character or the end of the input is reached. The rest of the string is ignored.\n",
    "Convert these digits into an integer (i.e. \"123\" -> 123, \"0032\" -> 32). If no digits were read, then the integer is 0. Change the sign as necessary (from step 2).\n",
    "If the integer is out of the 32-bit signed integer range [-231, 231 - 1], then clamp the integer so that it remains in the range. Specifically, integers less than -231 should be clamped to -231, and integers greater than 231 - 1 should be clamped to 231 - 1.\n",
    "Return the integer as the final result.\n",
    "Note:\n",
    "\n",
    "Only the space character ' ' is considered a whitespace character.\n",
    "Do not ignore any characters other than the leading whitespace or the rest of the string after the digits.\n",
    " \n",
    "\n",
    "Example 1:\n",
    "\n",
    "* Input: s = \"42\"\n",
    "* Output: 42\n",
    "* Explanation: The underlined characters are what is read in, the caret is the current reader position.\n",
    "* Step 1: \"42\" (no characters read because there is no leading whitespace)\n",
    "         ^\n",
    "* Step 2: \"42\" (no characters read because there is neither a '-' nor '+')\n",
    "         ^\n",
    "* Step 3: \"42\" (\"42\" is read in)\n",
    "           ^\n",
    "The parsed integer is 42.\n",
    "Since 42 is in the range [-231, 231 - 1], the final result is 42."
   ]
  },
  {
   "cell_type": "code",
   "execution_count": 9,
   "metadata": {},
   "outputs": [
    {
     "name": "stdout",
     "output_type": "stream",
     "text": [
      "42\n"
     ]
    }
   ],
   "source": [
    "def myAtoi(s):\n",
    "    MAX_NUM = 2 ** 31 - 1\n",
    "    MIN_NUM = -2 ** 31\n",
    "    \n",
    "    # trim the leading white space first\n",
    "    s = s.strip()\n",
    "    sign = 1\n",
    "    index = 0\n",
    "    num = 0\n",
    "    if not s:\n",
    "        return num\n",
    "        \n",
    "    if s[0] == '-':\n",
    "        sign = -1\n",
    "        index += 1\n",
    "    elif s[0] == '+':\n",
    "        index += 1\n",
    "        \n",
    "    while index < len(s) and s[index].isdigit():\n",
    "        curr_digit = ord(s[index]) - ord('0')\n",
    "        if num > MAX_NUM // 10 or (num == MAX_NUM // 10 and curr_digit > 7): # here we do the check before adding current digit\n",
    "            return MAX_NUM if sign == 1 else MIN_NUM\n",
    "            \n",
    "        num = num * 10 + curr_digit\n",
    "        index += 1\n",
    "        \n",
    "    num = sign * num\n",
    "    return num \n",
    "\n",
    "\n",
    "print(myAtoi('42'))"
   ]
  },
  {
   "cell_type": "markdown",
   "metadata": {},
   "source": [
    "8. Longest Common Prefix:\n",
    "\n",
    "Write a function to find the longest common prefix string amongst an array of strings.\n",
    "\n",
    "If there is no common prefix, return an empty string \"\".\n",
    "\n",
    " \n",
    "\n",
    "Example 1:\n",
    "\n",
    "* Input: strs = [\"flower\",\"flow\",\"flight\"]\n",
    "* Output: \"fl\""
   ]
  },
  {
   "cell_type": "code",
   "execution_count": 11,
   "metadata": {},
   "outputs": [
    {
     "name": "stdout",
     "output_type": "stream",
     "text": [
      "fl\n"
     ]
    }
   ],
   "source": [
    "#pseudoccode : find the min lenght string, enumerate each character from min string and others in the list of string and return the sequence\n",
    "\n",
    "def longestcommonprefix(strs):\n",
    "    if not strs:\n",
    "        return \"\"\n",
    "    shortest = min(strs,key=len)\n",
    "    for i, ch in enumerate(shortest):\n",
    "        for other in strs:\n",
    "            if other[i] != ch:\n",
    "                return shortest[:i]\n",
    "    return shortest \n",
    "\n",
    "print(longestcommonprefix([\"flower\",\"flow\",\"flight\"]))"
   ]
  },
  {
   "cell_type": "code",
   "execution_count": null,
   "metadata": {},
   "outputs": [],
   "source": []
  }
 ],
 "metadata": {
  "kernelspec": {
   "display_name": "Python 3",
   "language": "python",
   "name": "python3"
  },
  "language_info": {
   "codemirror_mode": {
    "name": "ipython",
    "version": 3
   },
   "file_extension": ".py",
   "mimetype": "text/x-python",
   "name": "python",
   "nbconvert_exporter": "python",
   "pygments_lexer": "ipython3",
   "version": "3.7.4"
  }
 },
 "nbformat": 4,
 "nbformat_minor": 2
}
