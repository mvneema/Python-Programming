{
 "cells": [
  {
   "cell_type": "markdown",
   "metadata": {},
   "source": [
    "### Easy Problems:\n",
    "1. Amazon: Given two arrays, write a function to get the intersection of the two. For example, if A = [1,2,3,4,5] and B = [0,1,3,7] then you should return [1,3] "
   ]
  },
  {
   "cell_type": "code",
   "execution_count": 1,
   "metadata": {},
   "outputs": [
    {
     "name": "stdout",
     "output_type": "stream",
     "text": [
      "[1, 3]\n"
     ]
    }
   ],
   "source": [
    "A = [1,2,3,4,5]\n",
    "B = [0,1,3,7]\n",
    "\n",
    "def intersection(A,B):\n",
    "    res = [value for value in A if value in B ]\n",
    "    return res\n",
    "    \n",
    "ans = intersection(A,B)\n",
    "print(ans)"
   ]
  },
  {
   "cell_type": "markdown",
   "metadata": {},
   "source": [
    "D.E.Shaw: Given an integer array, return the maximum product of any three nubers in the array. For example, A = [1,3,4,5], you should return 60, while B = [-2,-4,5,3] should return 40."
   ]
  },
  {
   "cell_type": "code",
   "execution_count": 41,
   "metadata": {},
   "outputs": [
    {
     "name": "stdout",
     "output_type": "stream",
     "text": [
      "40\n"
     ]
    }
   ],
   "source": [
    "A = [1,3,4,5]\n",
    "B = [-2,-4,5,3]\n",
    "import numpy \n",
    "def prodarr(C):\n",
    "    \n",
    "    if all(n > 0 for n in C):\n",
    "        print('hi')\n",
    "        sortA = sorted(C, reverse=True)\n",
    "        print(sortA)\n",
    "        A_num = sortA[:3]\n",
    "        res = numpy.prod(A_num)\n",
    "    else:\n",
    "        sortA = sorted(C, reverse=False)\n",
    "        A_num = [sortA[-1]]+ sortA[:2]\n",
    "        res = numpy.prod(A_num)\n",
    "    return res \n",
    "\n",
    "\n",
    "res = prodarr(B)\n",
    "print(res)"
   ]
  },
  {
   "cell_type": "markdown",
   "metadata": {},
   "source": [
    "Google: Say you have an n by n matrix of elements that are sorted in ascending order both in the columns and rows of the matrix. Return the k-th smallest element in the matrix. For example, consider the matrix below:\n",
    "* [1  4  7]\n",
    "* [3  5  9]\n",
    "* [6  8  11]\n",
    "\n",
    "if k = 4 then return 5. "
   ]
  },
  {
   "cell_type": "code",
   "execution_count": 42,
   "metadata": {},
   "outputs": [],
   "source": [
    "#Since the matrix is sorted, we know the k element must be within the row k and column k.\n",
    "#There we can use double for loop with k as the max value for each of the two indices. \n",
    "#Once all the elements are added, we can pop the top k-smallest element and return the last element.\n"
   ]
  },
  {
   "cell_type": "code",
   "execution_count": null,
   "metadata": {},
   "outputs": [],
   "source": [
    "#using heap\n",
    "from heapq import heappush, heappop\n",
    "\n",
    "def smallest(m,k):\n",
    "    n = len(m)\n",
    "    heap = []\n",
    "    res = -1\n",
    "    for i in range(min(k,n)):\n",
    "        for j in range(min(k,n)):\n",
    "            heappush(heap, m[i][j])\n",
    "    for _ in range(k):\n",
    "        res = heappop(heap)\n",
    "    return res "
   ]
  },
  {
   "cell_type": "markdown",
   "metadata": {},
   "source": [
    "Akuna Capital: Given an integer array, find the sum of the largest contigous subarray within the array.For example, if the input is [-1,-3,5,-4,3,-6,9,2] then  11(because 9,2 is 11). Note that if all are negative , you should return 0."
   ]
  },
  {
   "cell_type": "code",
   "execution_count": 50,
   "metadata": {},
   "outputs": [
    {
     "name": "stdout",
     "output_type": "stream",
     "text": [
      "11\n"
     ]
    }
   ],
   "source": [
    "input = [-1,-3,5,-4,3,-6,9,2] \n",
    "\n",
    "def sum_array(A):\n",
    "    n = len(A)\n",
    "    max_sum = A[0]\n",
    "    curr_sum = 0\n",
    "    for i in range(n):\n",
    "        curr_sum += A[i]\n",
    "        max_sum = max(max_sum, curr_sum)\n",
    "        if curr_sum < 0:\n",
    "            curr_sum = 0\n",
    "    return max_sum\n",
    "    \n",
    "print(sum_array(input))"
   ]
  },
  {
   "cell_type": "markdown",
   "metadata": {},
   "source": [
    "Facebook: Given a list of coordinates, write a function to find the k closest poiints(measured by ecludiean distance) to the origin. For example, if k = 3, and the points are [[2,-1],[3,2],[4,1],[-1,1],[-2,2]], then return [[-1,-1],[2,-1],[-2,2]]"
   ]
  },
  {
   "cell_type": "markdown",
   "metadata": {},
   "source": [
    "Consider two points with coordinates as (x1, y1) and (x2, y2) respectively. The Euclidean distance between these two points will be: \n",
    "\n",
    "√{(x2-x1)2 + (y2-y1)2}\n",
    "\n",
    "* Sort the points by distance using the Euclidean distance formula.\n",
    "* Select first K points form the list\n",
    "* Print the points obtained in any order."
   ]
  },
  {
   "cell_type": "code",
   "execution_count": 56,
   "metadata": {},
   "outputs": [
    {
     "name": "stdout",
     "output_type": "stream",
     "text": [
      "<function pClosest.<locals>.<lambda> at 0x00000211ECC13D38>\n",
      "[[-1, 1], [2, -1], [-2, 2]]\n"
     ]
    }
   ],
   "source": [
    "def pClosest(points, k):\n",
    "    points.sort(key = lambda k: k[0]**2 + k[1]**2)\n",
    "    return points[:k]\n",
    " \n",
    "\n",
    "points = [[2,-1],[3,2],[4,1],[-1,1],[-2,2]]\n",
    "k = 3\n",
    " \n",
    "print(pClosest(points, k))"
   ]
  },
  {
   "cell_type": "code",
   "execution_count": null,
   "metadata": {},
   "outputs": [],
   "source": [
    "#solution from book:\n",
    "from heapq import heappush, heappop\n",
    "\n",
    "def closest(points,k):\n",
    "    def get_dist(x,y):\n",
    "        return x**2 + y**2\n",
    "    min_heap = []\n",
    "    n = len(points)\n",
    "    for i in range(n):\n",
    "        x = points[i][0]\n",
    "        y = points[i][1]\n",
    "        heappush(min_heap, (get_dist(x,y), points[i])) #add to heap\n",
    "    res = []\n",
    "    for i in range(k):\n",
    "        res.append(heappop(min_heap)[1])\n",
    "    return res"
   ]
  }
 ],
 "metadata": {
  "kernelspec": {
   "display_name": "Python 3",
   "language": "python",
   "name": "python3"
  },
  "language_info": {
   "codemirror_mode": {
    "name": "ipython",
    "version": 3
   },
   "file_extension": ".py",
   "mimetype": "text/x-python",
   "name": "python",
   "nbconvert_exporter": "python",
   "pygments_lexer": "ipython3",
   "version": "3.7.4"
  }
 },
 "nbformat": 4,
 "nbformat_minor": 2
}
