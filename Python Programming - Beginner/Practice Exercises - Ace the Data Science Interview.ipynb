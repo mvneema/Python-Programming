{
 "cells": [
  {
   "cell_type": "markdown",
   "metadata": {},
   "source": [
    "### Easy Problems:\n",
    "1. Amazon: Given two arrays, write a function to get the intersection of the two. For example, if A = [1,2,3,4,5] and B = [0,1,3,7] then you should return [1,3] "
   ]
  },
  {
   "cell_type": "code",
   "execution_count": 1,
   "metadata": {},
   "outputs": [
    {
     "name": "stdout",
     "output_type": "stream",
     "text": [
      "[1, 3]\n"
     ]
    }
   ],
   "source": [
    "A = [1,2,3,4,5]\n",
    "B = [0,1,3,7]\n",
    "\n",
    "def intersection(A,B):\n",
    "    res = [value for value in A if value in B ]\n",
    "    return res\n",
    "    \n",
    "ans = intersection(A,B)\n",
    "print(ans)\n",
    "\n",
    "#solution from book:\n",
    "def intersection(a,b):\n",
    "    set_a = set(a)\n",
    "    set_b = set(b)\n",
    "    if len(set_a)<len(set_b):\n",
    "        return [x for x in set_a if x in set_b]\n",
    "    else:\n",
    "        return [x for x in set_b if x in set_a]\n",
    "    \n",
    "#Time complexity is O(N+M) due to creation of sets and space complexity is o(N+M) since arrays might contain all distinct elements."
   ]
  },
  {
   "cell_type": "markdown",
   "metadata": {},
   "source": [
    "2. D.E.Shaw: Given an integer array, return the maximum product of any three nubers in the array. For example, A = [1,3,4,5], you should return 60, while B = [-2,-4,5,3] should return 40."
   ]
  },
  {
   "cell_type": "code",
   "execution_count": 41,
   "metadata": {},
   "outputs": [
    {
     "name": "stdout",
     "output_type": "stream",
     "text": [
      "40\n"
     ]
    }
   ],
   "source": [
    "A = [1,3,4,5]\n",
    "B = [-2,-4,5,3]\n",
    "import numpy \n",
    "def prodarr(C):\n",
    "    \n",
    "    if all(n > 0 for n in C):\n",
    "        print('hi')\n",
    "        sortA = sorted(C, reverse=True)\n",
    "        print(sortA)\n",
    "        A_num = sortA[:3]\n",
    "        res = numpy.prod(A_num)\n",
    "    else:\n",
    "        sortA = sorted(C, reverse=False)\n",
    "        A_num = [sortA[-1]]+ sortA[:2]\n",
    "        res = numpy.prod(A_num)\n",
    "    return res \n",
    "\n",
    "\n",
    "res = prodarr(B)\n",
    "print(res)"
   ]
  },
  {
   "cell_type": "code",
   "execution_count": null,
   "metadata": {},
   "outputs": [],
   "source": [
    "#solution from book:\n",
    "import heapq\n",
    "\n",
    "def max_three(str):\n",
    "    a = heapq.nlargest(3,arr)\n",
    "    b = heapq.nsmallest(2, arr)#negative case\n",
    "    return max(a[2]*a[1]*a[0], b[1]*b[0]*b[0])\n",
    "\n",
    "#Time complexity is O(N) is the size of the input array and space compelexity is O(1) since using heap and elements is fixed."
   ]
  },
  {
   "cell_type": "markdown",
   "metadata": {},
   "source": [
    "3. Google: Say you have an n by n matrix of elements that are sorted in ascending order both in the columns and rows of the matrix. Return the k-th smallest element in the matrix. For example, consider the matrix below:\n",
    "* [1  4  7]\n",
    "* [3  5  9]\n",
    "* [6  8  11]\n",
    "\n",
    "if k = 4 then return 5. "
   ]
  },
  {
   "cell_type": "code",
   "execution_count": 42,
   "metadata": {},
   "outputs": [],
   "source": [
    "#Since the matrix is sorted, we know the k element must be within the row k and column k.\n",
    "#There we can use double for loop with k as the max value for each of the two indices. \n",
    "#Once all the elements are added, we can pop the top k-smallest element and return the last element.\n"
   ]
  },
  {
   "cell_type": "code",
   "execution_count": null,
   "metadata": {},
   "outputs": [],
   "source": [
    "#Solution from book using heap\n",
    "from heapq import heappush, heappop\n",
    "\n",
    "def smallest(m,k):\n",
    "    n = len(m)\n",
    "    heap = []\n",
    "    res = -1\n",
    "    for i in range(min(k,n)):\n",
    "        for j in range(min(k,n)):\n",
    "            heappush(heap, m[i][j])\n",
    "    for _ in range(k):\n",
    "        res = heappop(heap)\n",
    "    return res \n",
    "\n",
    "#Time complexity is O(N*log(K)) sin O(N) additions to the heap, eavh of which takes O(log(K)) and space complexity is O(K) to accommodate the min-heap"
   ]
  },
  {
   "cell_type": "markdown",
   "metadata": {},
   "source": [
    "4. Akuna Capital: Given an integer array, find the sum of the largest contigous subarray within the array.For example, if the input is [-1,-3,5,-4,3,-6,9,2] then  11(because 9,2 is 11). Note that if all are negative , you should return 0."
   ]
  },
  {
   "cell_type": "code",
   "execution_count": 50,
   "metadata": {},
   "outputs": [
    {
     "name": "stdout",
     "output_type": "stream",
     "text": [
      "11\n"
     ]
    }
   ],
   "source": [
    "input = [-1,-3,5,-4,3,-6,9,2] \n",
    "\n",
    "def sum_array(A):\n",
    "    n = len(A)\n",
    "    max_sum = A[0]\n",
    "    curr_sum = 0\n",
    "    for i in range(n):\n",
    "        curr_sum += A[i]\n",
    "        max_sum = max(max_sum, curr_sum)\n",
    "        if curr_sum < 0:\n",
    "            curr_sum = 0\n",
    "    return max_sum\n",
    "    \n",
    "print(sum_array(input))"
   ]
  },
  {
   "cell_type": "code",
   "execution_count": null,
   "metadata": {},
   "outputs": [],
   "source": [
    "#solution from book:\n",
    "from heapq import heappush, heappop\n",
    "\n",
    "def smallest(m,k):\n",
    "    n = lens(m)\n",
    "    heap = []\n",
    "    res= -1\n",
    "    for i in range(min(k,n)):\n",
    "        for j in range(min(k,n)):\n",
    "            heappush(heap,m[i][j])\n",
    "    for _ in range(k):\n",
    "        res=heapppop(heap)\n",
    "    return res\n",
    "\n",
    "#time complexuty is O(K^2log K) and space complexity is O(K)"
   ]
  },
  {
   "cell_type": "markdown",
   "metadata": {},
   "source": [
    "5. Facebook: Given a list of coordinates, write a function to find the k closest poiints(measured by ecludiean distance) to the origin. For example, if k = 3, and the points are [[2,-1],[3,2],[4,1],[-1,1],[-2,2]], then return [[-1,-1],[2,-1],[-2,2]]"
   ]
  },
  {
   "cell_type": "markdown",
   "metadata": {},
   "source": [
    "Consider two points with coordinates as (x1, y1) and (x2, y2) respectively. The Euclidean distance between these two points will be: \n",
    "\n",
    "√{(x2-x1)2 + (y2-y1)2}\n",
    "\n",
    "* Sort the points by distance using the Euclidean distance formula.\n",
    "* Select first K points form the list\n",
    "* Print the points obtained in any order."
   ]
  },
  {
   "cell_type": "code",
   "execution_count": 56,
   "metadata": {},
   "outputs": [
    {
     "name": "stdout",
     "output_type": "stream",
     "text": [
      "<function pClosest.<locals>.<lambda> at 0x00000211ECC13D38>\n",
      "[[-1, 1], [2, -1], [-2, 2]]\n"
     ]
    }
   ],
   "source": [
    "def pClosest(points, k):\n",
    "    points.sort(key = lambda k: k[0]**2 + k[1]**2)\n",
    "    return points[:k]\n",
    " \n",
    "\n",
    "points = [[2,-1],[3,2],[4,1],[-1,1],[-2,2]]\n",
    "k = 3\n",
    " \n",
    "print(pClosest(points, k))"
   ]
  },
  {
   "cell_type": "code",
   "execution_count": null,
   "metadata": {},
   "outputs": [],
   "source": [
    "#solution from book:\n",
    "from heapq import heappush, heappop\n",
    "\n",
    "def closest(points,k):\n",
    "    def get_dist(x,y):\n",
    "        return x**2 + y**2\n",
    "    min_heap = []\n",
    "    n = len(points)\n",
    "    for i in range(n):\n",
    "        x = points[i][0]\n",
    "        y = points[i][1]\n",
    "        heappush(min_heap, (get_dist(x,y), points[i])) #add to heap\n",
    "    res = []\n",
    "    for i in range(k):\n",
    "        res.append(heappop(min_heap)[1])\n",
    "    return res\n",
    "\n",
    "#Time complexity is O(N), space complexity is O(1)"
   ]
  },
  {
   "cell_type": "markdown",
   "metadata": {},
   "source": [
    "6. Facebook: Given a binary tree, write a function to determine whether the tree is a mirror image of itself."
   ]
  },
  {
   "cell_type": "code",
   "execution_count": 70,
   "metadata": {},
   "outputs": [
    {
     "name": "stdout",
     "output_type": "stream",
     "text": [
      "Inorder traversal of the constructed tree is\n",
      "4 2 5 1 3 \n",
      "Inorder traversal of the mirror treeis \n",
      "3 1 5 2 4 "
     ]
    }
   ],
   "source": [
    "# Python3 program to convert a binary\n",
    "# tree to its mirror\n",
    " \n",
    "# Utility function to create a new\n",
    "# tree node\n",
    "class newNode:\n",
    "    def __init__(self,data):\n",
    "        self.data = data\n",
    "        self.left = self.right = None\n",
    " \n",
    "    \"\"\" Change a tree so that the roles of the\n",
    "    left and right pointers are swapped at\n",
    "    every node.\n",
    " \n",
    "So the tree...\n",
    "        4\n",
    "        / \\\n",
    "    2 5\n",
    "    / \\\n",
    "    1 3\n",
    " \n",
    "is changed to...\n",
    "    4\n",
    "    / \\\n",
    "    5 2\n",
    "    / \\\n",
    "    3 1\n",
    "\"\"\"\n",
    "def mirror(node):\n",
    " \n",
    "    if (node == None):\n",
    "        return\n",
    "    else:\n",
    " \n",
    "        temp = node\n",
    "         \n",
    "        \"\"\" do the subtrees \"\"\"\n",
    "        mirror(node.left)\n",
    "        mirror(node.right)\n",
    " \n",
    "        \"\"\" swap the pointers in this node \"\"\"\n",
    "        temp = node.left\n",
    "        node.left = node.right\n",
    "        node.right = temp\n",
    " \n",
    "    \"\"\" Helper function to print Inorder traversal.\"\"\"\n",
    "def inOrder(node) :\n",
    " \n",
    "    if (node == None):\n",
    "        return\n",
    "         \n",
    "    inOrder(node.left)\n",
    "    print(node.data, end = \" \")\n",
    "    inOrder(node.right)\n",
    " \n",
    "    # Driver code\n",
    "if __name__ ==\"__main__\":\n",
    " \n",
    "    root = newNode(1)\n",
    "    root.left = newNode(2)\n",
    "    root.right = newNode(3)\n",
    "    root.left.left = newNode(4)\n",
    "    root.left.right = newNode(5)\n",
    " \n",
    "    \"\"\" Print inorder traversal of\n",
    "        the input tree \"\"\"\n",
    "    print(\"Inorder traversal of the\",\n",
    "               \"constructed tree is\")\n",
    "    inOrder(root)\n",
    "     \n",
    "    \"\"\" Convert tree to its mirror \"\"\"\n",
    "    mirror(root)\n",
    " \n",
    "    \"\"\" Print inorder traversal of\n",
    "        the mirror tree \"\"\"\n",
    "    print(\"\\nInorder traversal of\",\n",
    "              \"the mirror treeis \")\n",
    "    inOrder(root)"
   ]
  },
  {
   "cell_type": "code",
   "execution_count": null,
   "metadata": {},
   "outputs": [],
   "source": [
    "#Solution from book:\n",
    "#1. The root values match\n",
    "#2. The first subtree's ;eft side us a mirror of the second subtree's right side\n",
    "#3. The first subtree's right side is a mirror of the second subtree's left side\n",
    "#Time complexity and space complexity is O(N)where N is the size of the tree and since entire tree is traversed once.\n",
    "Class TreeNode:\n",
    "    def __init__(self, val):\n",
    "        self.val = val \n",
    "        self.left = None\n",
    "        self.right = None\n",
    "        \n",
    "def is_mirror(root):\n",
    "    if root is None:\n",
    "        return True\n",
    "    \n",
    "    return helper(root.left, root.right)\n",
    "\n",
    "def helper(x,y):\n",
    "    if(x is None and y is None):\n",
    "        return True \n",
    "    elif(x is None or y is None):\n",
    "        return False\n",
    "    return x.val == y.val and helper(x.left, y.right) and helper(x.right,y.left)"
   ]
  },
  {
   "cell_type": "markdown",
   "metadata": {},
   "source": [
    "### Medium Problems:"
   ]
  },
  {
   "cell_type": "markdown",
   "metadata": {},
   "source": [
    "7. Google: Given an array of positive integers, a peak element is greater than its neighbors. Write a function to find the index of any peak elements. For example, for [3,5,2,4,1], you should return either 1 or 3 because the values at those index is 5 and 4 are the peak elements"
   ]
  },
  {
   "cell_type": "code",
   "execution_count": 87,
   "metadata": {},
   "outputs": [
    {
     "name": "stdout",
     "output_type": "stream",
     "text": [
      "Index of a peak point is 2\n"
     ]
    }
   ],
   "source": [
    "# Find the peak element in the array\n",
    "def findPeak(arr) :\n",
    "    n = len(arr)\n",
    "  \n",
    "    # first or last element is peak element\n",
    "    if (n == 1) :\n",
    "        return 0\n",
    "    if (arr[0] >= arr[1]) :\n",
    "        return 0\n",
    "    if (arr[n - 1] >= arr[n - 2]) :\n",
    "        return n - 1\n",
    "   \n",
    "    # check for every other element\n",
    "    for i in range(1, n - 1) :\n",
    "   \n",
    "        # check if the neighbors are smaller\n",
    "        if (arr[i] >= arr[i - 1] and arr[i] >= arr[i + 1]) :\n",
    "            return i\n",
    "              \n",
    "# Driver code.\n",
    "arr = [ 1, 3, 20, 4, 1, 0 ]\n",
    "\n",
    "print(\"Index of a peak point is\", findPeak(arr))\n",
    "\n",
    "#Time complexity is O(n)"
   ]
  },
  {
   "cell_type": "code",
   "execution_count": 88,
   "metadata": {
    "scrolled": true
   },
   "outputs": [],
   "source": [
    "#solution from book\n",
    "def get_peak(arr):\n",
    "    start = 0\n",
    "    end = len(arr)-1\n",
    "    \n",
    "    while True:\n",
    "        mid = start + end // 2\n",
    "        print(mid)\n",
    "        left = arr[mid-1] if mid -1 >=0 else float('-inf')\n",
    "        right = arr[mid+1] if mid+1 < len(arr) else float('-inf')\n",
    "\n",
    "        if left < arr[mid] and right < arr[mid]:\n",
    "            return mid\n",
    "        elif arr[mid] < right:\n",
    "            start = mid+1 \n",
    "        else:\n",
    "            end = mid-1\n",
    "\n",
    "#Time complexity is O(log(N)) since its variant of Binary Search Tree and the space complexity of O(1)"
   ]
  },
  {
   "cell_type": "markdown",
   "metadata": {},
   "source": [
    "8. AQR: Given two lists X and Y, return their correlation"
   ]
  },
  {
   "cell_type": "code",
   "execution_count": 90,
   "metadata": {},
   "outputs": [
    {
     "name": "stdout",
     "output_type": "stream",
     "text": [
      "0.953463\n"
     ]
    }
   ],
   "source": [
    "# We should know the formula for finding the correlation coeffient\n",
    "import math \n",
    "def correlation(X, Y):\n",
    "    n = len(X)\n",
    "    sumX = 0\n",
    "    sumY = 0 \n",
    "    sumXY = 0\n",
    "    squareSumX = 0\n",
    "    squareSumY = 0\n",
    "    \n",
    "    \n",
    "    i = 0\n",
    "    while i<n:\n",
    "        #summing list X\n",
    "        sumX = sumX+X[i]\n",
    "        \n",
    "        sumY = sumY+Y[i]\n",
    "        \n",
    "        sumXY = sumXY+ X[i]*Y[i]\n",
    "        \n",
    "        squareSumX = squareSumX + X[i]*X[i]\n",
    "        \n",
    "        squareSumY = squareSumY + Y[i]*Y[i]\n",
    "        \n",
    "        i = i+1\n",
    "        \n",
    "    corr = (float)(n * sumXY - sumX * sumY)/(float)(math.sqrt((n * squareSumX - sumX * sumX)* (n * squareSumY - sumY * sumY)))\n",
    "        \n",
    "    return corr\n",
    "\n",
    "X = [15, 18, 21, 24, 27]\n",
    "Y = [25, 25, 27, 31, 32]\n",
    "\n",
    "  \n",
    "# Function call to correlationCoefficient.\n",
    "print ('{0:.6f}'.format(correlation(X, Y)))"
   ]
  },
  {
   "cell_type": "code",
   "execution_count": 91,
   "metadata": {},
   "outputs": [],
   "source": [
    "#solution from book\n",
    "import math \n",
    "\n",
    "def mean(x):\n",
    "    return sum(x)/len(X)\n",
    "\n",
    "def sd(x):\n",
    "    m = mean(x)\n",
    "    ss = sum((1-m) ** 2 for i in x)\n",
    "    return math.sqrt(ss/len(x))\n",
    "\n",
    "def corr(x,y):\n",
    "    x_m = mean(n)\n",
    "    y_m = mean(y)\n",
    "    xy_d = []\n",
    "    for i in range(len(x)):\n",
    "        x_d = x[i]-x_m\n",
    "        y_d = y[i]-y_m\n",
    "        xy_d.append(x_d*y_d)\n",
    "    return mean(xy_d)\n",
    "\n",
    "#time complexity is O(N) as we calculate few means & std as well as iterate over all N elements. Space complexity is O(N) ato keep track of N elements."
   ]
  },
  {
   "cell_type": "markdown",
   "metadata": {},
   "source": [
    "9. Amazon: Given a binary tree, write a function to determine the diameter of the tree, which is the longest path between any two nodes."
   ]
  },
  {
   "cell_type": "code",
   "execution_count": 94,
   "metadata": {},
   "outputs": [],
   "source": [
    "class Node:\n",
    " \n",
    "    # Constructor to create a new node\n",
    "    def __init__(self, data):\n",
    "        self.data = data\n",
    "        self.left = None\n",
    "        self.right = None\n",
    " \n",
    " \n",
    "# The function Compute the \"height\" of a tree. Height is the\n",
    "# number of nodes along the longest path from the root node\n",
    "# down to the farthest leaf node.\n",
    " \n",
    "def height(node):\n",
    " \n",
    "    # Base Case : Tree is empty\n",
    "    if node is None:\n",
    "        return 0\n",
    " \n",
    "    # If tree is not empty then height = 1 + max of left\n",
    "    # height and right heights\n",
    "    return 1 + max(height(node.left), height(node.right))\n",
    " \n",
    "# Function to get the diameter of a binary tree\n",
    "def diameter(root):\n",
    " \n",
    "    # Base Case when tree is empty\n",
    "    if root is None:\n",
    "        return 0\n",
    " \n",
    "    # Get the height of left and right sub-trees\n",
    "    lheight = height(root.left)\n",
    "    rheight = height(root.right)\n",
    " \n",
    "    # Get the diameter of left and right sub-trees\n",
    "    ldiameter = diameter(root.left)\n",
    "    rdiameter = diameter(root.right)\n",
    " \n",
    "    # Return max of the following tree:\n",
    "    # 1) Diameter of left subtree\n",
    "    # 2) Diameter of right subtree\n",
    "    # 3) Height of left subtree + height of right subtree +1\n",
    "    return max(lheight + rheight + 1, max(ldiameter, rdiameter))"
   ]
  },
  {
   "cell_type": "code",
   "execution_count": 95,
   "metadata": {},
   "outputs": [
    {
     "name": "stdout",
     "output_type": "stream",
     "text": [
      "4\n"
     ]
    }
   ],
   "source": [
    "root = Node(1)\n",
    "root.left = Node(2)\n",
    "root.right = Node(3)\n",
    "root.left.left = Node(4)\n",
    "root.left.right = Node(5)\n",
    " \n",
    "# Function Call\n",
    "print(diameter(root))\n",
    "#Time complexity is O(N) where N is the size of the tree and space complexity is O(N) since there will be N recursive calls"
   ]
  },
  {
   "cell_type": "code",
   "execution_count": 93,
   "metadata": {},
   "outputs": [],
   "source": [
    "#solution from book:\n",
    "#diameter can be solved recursively\n",
    "#helper function depth to calculate the tree depth and have its base case to return 0 if the root is None. Inside \n",
    "#the diameter function, recursively call depth(root.left) and depth(root.right) and return 1+max(left,right)\n",
    "#time complexity is O(N) and space complexity is O(N)\n",
    "class TreeNode:\n",
    "    def __init__(self, val):\n",
    "        self.val = val \n",
    "        self.left = None\n",
    "        self.right = None\n",
    "        \n",
    "def clac_diam(root):\n",
    "    def depth(root, diameter):\n",
    "        if root is None:\n",
    "            return 0, diameter\n",
    "        \n",
    "        left,diameter = depth(root.left, diameter)\n",
    "        right,diameter = depth(root.right, diameter)\n",
    "        diameter = max(diameter, left + right) #update diameter\n",
    "        return max(left,right)+1,diameter #return root's longest depth\n",
    "    depth,diameter = depth(root,0)\n",
    "    return diameter"
   ]
  },
  {
   "cell_type": "markdown",
   "metadata": {},
   "source": [
    "10. D.E.Shaw: Given a target number, generate a random sample of n integers that sum to that target that also are within std deviation of the mean.\n",
    "\n",
    "1. start by calculating the mean and defining the upper and lower bound on given integer based on the standard deviation.\n",
    "2. target be T, number of elements be N and sigma be (sigma symbol). \n",
    "3. Mean is T/N, allowable standard deviation is sigma * mean \n",
    "4. that means any given element msut be within (sigma * mean) which is within the upper and lower bound"
   ]
  },
  {
   "cell_type": "code",
   "execution_count": 96,
   "metadata": {},
   "outputs": [
    {
     "name": "stdout",
     "output_type": "stream",
     "text": [
      "[2.2, 2.2, 2.2, 2.2, 2.2]\n"
     ]
    }
   ],
   "source": [
    "import random\n",
    "\n",
    "def generate_nums(target, n, sigma):\n",
    "    mean = target/n\n",
    "    sd = int(sigma*mean)\n",
    "    max_val, min_val = mean + sd, mean - sd #bounds\n",
    "    results = [min_val]*n\n",
    "    remaining = target - n * min_val \n",
    "    \n",
    "    while remaining > 0:\n",
    "        a = random.randint*(0,n-1)\n",
    "        if results[a]>=max_val:\n",
    "            continue\n",
    "        results[a]+=min(remaining,1)\n",
    "        remaining-=1\n",
    "        \n",
    "    return results \n",
    "\n",
    "print(generate_nums(11,5,0.25))"
   ]
  },
  {
   "cell_type": "code",
   "execution_count": null,
   "metadata": {},
   "outputs": [],
   "source": [
    "#time complexity is O(max(sigma*Target)) and space complexity is O(N) to store results"
   ]
  }
 ],
 "metadata": {
  "kernelspec": {
   "display_name": "Python 3",
   "language": "python",
   "name": "python3"
  },
  "language_info": {
   "codemirror_mode": {
    "name": "ipython",
    "version": 3
   },
   "file_extension": ".py",
   "mimetype": "text/x-python",
   "name": "python",
   "nbconvert_exporter": "python",
   "pygments_lexer": "ipython3",
   "version": "3.7.4"
  }
 },
 "nbformat": 4,
 "nbformat_minor": 2
}
