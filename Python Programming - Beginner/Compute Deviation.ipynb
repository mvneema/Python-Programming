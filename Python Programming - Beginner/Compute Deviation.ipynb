{
 "cells": [
  {
   "cell_type": "markdown",
   "metadata": {},
   "source": [
    "Write a function compute_deviation that takes in a list of dictionaries with a key and list of integers and returns a dictionary with the standard deviation of each list.\n",
    "\n",
    "Note that this should be done without using the numpy built in functions."
   ]
  },
  {
   "cell_type": "code",
   "execution_count": 77,
   "metadata": {},
   "outputs": [],
   "source": [
    "def compute_deviation(input):\n",
    "    res = {}\n",
    "    for items in input:\n",
    "        #print(items)\n",
    "        arr = items['values']\n",
    "        \n",
    "        mean = sum(arr)/len(arr)\n",
    "        var = sum([((x-mean)**2) for x in arr])/len(arr)\n",
    "        std = var ** 0.5\n",
    "        \n",
    "        res[items['key']] = std\n",
    "    return(res)\n",
    "                "
   ]
  },
  {
   "cell_type": "code",
   "execution_count": 78,
   "metadata": {},
   "outputs": [
    {
     "name": "stdout",
     "output_type": "stream",
     "text": [
      "{'key': 'list1', 'values': [4, 5, 2, 3, 4, 5, 2, 3]}\n",
      "{'key': 'list2', 'values': [1, 1, 34, 12, 40, 3, 9, 7]}\n"
     ]
    },
    {
     "data": {
      "text/plain": [
       "{'list1': 1.118033988749895, 'list2': 14.185710239533304}"
      ]
     },
     "execution_count": 78,
     "metadata": {},
     "output_type": "execute_result"
    }
   ],
   "source": [
    "  \n",
    "input_l = [\n",
    "    {\n",
    "        'key': 'list1',\n",
    "        'values': [4,5,2,3,4,5,2,3],\n",
    "    },\n",
    "    {\n",
    "        'key': 'list2',\n",
    "        'values': [1,1,34,12,40,3,9,7],\n",
    "    }\n",
    "]\n",
    "\n",
    "res = compute_deviation(input_l)\n",
    "res"
   ]
  },
  {
   "cell_type": "code",
   "execution_count": null,
   "metadata": {},
   "outputs": [],
   "source": [
    "#Solution:\n",
    "    \n",
    "def computeDeviation(input): #Output Dictionary result = {}\n",
    "\n",
    "for item in input:\n",
    "    arr = item['values']\n",
    "    sum = 0\n",
    "\n",
    "    #Calculate sum\n",
    "    for num in arr:\n",
    "        sum +=num\n",
    "\n",
    "    #Calculate mean\n",
    "    mean = sum/len(arr)\n",
    "\n",
    "    #Calculate std\n",
    "    var = 0\n",
    "    for num in arr:\n",
    "        var += (num-mean)**2\n",
    "    std = (var/len(arr))**0.5\n",
    "\n",
    "    #append the result\n",
    "    result[item['key']] = std\n",
    "\n",
    "return(result)\n",
    "\n"
   ]
  },
  {
   "cell_type": "code",
   "execution_count": null,
   "metadata": {},
   "outputs": [],
   "source": [
    "#calc sum:\n",
    "sum = 0\n",
    "for num in arr:\n",
    "    sum+=num\n",
    "    \n",
    "#cal var\n",
    "var = 0\n",
    "for num in var:\n",
    "    var+= (num-mean)**2"
   ]
  }
 ],
 "metadata": {
  "kernelspec": {
   "display_name": "Python 3",
   "language": "python",
   "name": "python3"
  },
  "language_info": {
   "codemirror_mode": {
    "name": "ipython",
    "version": 3
   },
   "file_extension": ".py",
   "mimetype": "text/x-python",
   "name": "python",
   "nbconvert_exporter": "python",
   "pygments_lexer": "ipython3",
   "version": "3.7.4"
  }
 },
 "nbformat": 4,
 "nbformat_minor": 2
}
