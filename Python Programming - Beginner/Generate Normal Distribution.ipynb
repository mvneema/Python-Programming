{
 "cells": [
  {
   "cell_type": "markdown",
   "metadata": {},
   "source": [
    "Write a function to generate N samples from a normal distribution and plot the histogram. You may omit the plot to test your code."
   ]
  },
  {
   "cell_type": "code",
   "execution_count": 1,
   "metadata": {},
   "outputs": [
    {
     "name": "stderr",
     "output_type": "stream",
     "text": [
      "In C:\\Users\\Neema MV\\Anaconda3\\lib\\site-packages\\matplotlib\\mpl-data\\stylelib\\_classic_test.mplstyle: \n",
      "The text.latex.preview rcparam was deprecated in Matplotlib 3.3 and will be removed two minor releases later.\n",
      "In C:\\Users\\Neema MV\\Anaconda3\\lib\\site-packages\\matplotlib\\mpl-data\\stylelib\\_classic_test.mplstyle: \n",
      "The mathtext.fallback_to_cm rcparam was deprecated in Matplotlib 3.3 and will be removed two minor releases later.\n",
      "In C:\\Users\\Neema MV\\Anaconda3\\lib\\site-packages\\matplotlib\\mpl-data\\stylelib\\_classic_test.mplstyle: Support for setting the 'mathtext.fallback_to_cm' rcParam is deprecated since 3.3 and will be removed two minor releases later; use 'mathtext.fallback : 'cm' instead.\n",
      "In C:\\Users\\Neema MV\\Anaconda3\\lib\\site-packages\\matplotlib\\mpl-data\\stylelib\\_classic_test.mplstyle: \n",
      "The validate_bool_maybe_none function was deprecated in Matplotlib 3.3 and will be removed two minor releases later.\n",
      "In C:\\Users\\Neema MV\\Anaconda3\\lib\\site-packages\\matplotlib\\mpl-data\\stylelib\\_classic_test.mplstyle: \n",
      "The savefig.jpeg_quality rcparam was deprecated in Matplotlib 3.3 and will be removed two minor releases later.\n",
      "In C:\\Users\\Neema MV\\Anaconda3\\lib\\site-packages\\matplotlib\\mpl-data\\stylelib\\_classic_test.mplstyle: \n",
      "The keymap.all_axes rcparam was deprecated in Matplotlib 3.3 and will be removed two minor releases later.\n",
      "In C:\\Users\\Neema MV\\Anaconda3\\lib\\site-packages\\matplotlib\\mpl-data\\stylelib\\_classic_test.mplstyle: \n",
      "The animation.avconv_path rcparam was deprecated in Matplotlib 3.3 and will be removed two minor releases later.\n",
      "In C:\\Users\\Neema MV\\Anaconda3\\lib\\site-packages\\matplotlib\\mpl-data\\stylelib\\_classic_test.mplstyle: \n",
      "The animation.avconv_args rcparam was deprecated in Matplotlib 3.3 and will be removed two minor releases later.\n"
     ]
    }
   ],
   "source": [
    "#Import Libraries\n",
    "from numpy.random import seed\n",
    "from numpy.random import normal \n",
    "import seaborn as sns"
   ]
  },
  {
   "cell_type": "code",
   "execution_count": 4,
   "metadata": {},
   "outputs": [
    {
     "name": "stdout",
     "output_type": "stream",
     "text": [
      "[ 1.62434536 -0.61175641 -0.52817175 -1.07296862  0.86540763 -2.3015387\n",
      "  1.74481176 -0.7612069   0.3190391  -0.24937038  1.46210794 -2.06014071\n",
      " -0.3224172  -0.38405435  1.13376944 -1.09989127 -0.17242821 -0.87785842\n",
      "  0.04221375  0.58281521 -1.10061918  1.14472371  0.90159072  0.50249434\n",
      "  0.90085595 -0.68372786 -0.12289023 -0.93576943 -0.26788808  0.53035547\n",
      " -0.69166075 -0.39675353 -0.6871727  -0.84520564 -0.67124613 -0.0126646\n",
      " -1.11731035  0.2344157   1.65980218  0.74204416 -0.19183555 -0.88762896\n",
      " -0.74715829  1.6924546   0.05080775 -0.63699565  0.19091548  2.10025514\n",
      "  0.12015895  0.61720311  0.30017032 -0.35224985 -1.1425182  -0.34934272\n",
      " -0.20889423  0.58662319  0.83898341  0.93110208  0.28558733  0.88514116\n",
      " -0.75439794  1.25286816  0.51292982 -0.29809284  0.48851815 -0.07557171\n",
      "  1.13162939  1.51981682  2.18557541 -1.39649634 -1.44411381 -0.50446586\n",
      "  0.16003707  0.87616892  0.31563495 -2.02220122 -0.30620401  0.82797464\n",
      "  0.23009474  0.76201118 -0.22232814 -0.20075807  0.18656139  0.41005165\n",
      "  0.19829972  0.11900865 -0.67066229  0.37756379  0.12182127  1.12948391\n",
      "  1.19891788  0.18515642 -0.37528495 -0.63873041  0.42349435  0.07734007\n",
      " -0.34385368  0.04359686 -0.62000084  0.69803203]\n"
     ]
    }
   ],
   "source": [
    "seed(1)\n",
    "data = []\n",
    "def sample_from_norm(N):\n",
    "    data = normal(0,1, N)\n",
    "    return data\n",
    " \n",
    "df = sample_from_norm(100)   \n",
    "print(df)"
   ]
  },
  {
   "cell_type": "code",
   "execution_count": 5,
   "metadata": {},
   "outputs": [
    {
     "data": {
      "text/plain": [
       "<AxesSubplot:ylabel='Count'>"
      ]
     },
     "execution_count": 5,
     "metadata": {},
     "output_type": "execute_result"
    },
    {
     "data": {
      "image/png": "[encoded data removed]",
      "text/plain": [
       "<Figure size 432x288 with 1 Axes>"
      ]
     },
     "metadata": {
      "needs_background": "light"
     },
     "output_type": "display_data"
    }
   ],
   "source": [
    "#plot histogram\n",
    "sns.histplot(df)"
   ]
  },
  {
   "cell_type": "code",
   "execution_count": null,
   "metadata": {},
   "outputs": [],
   "source": []
  }
 ],
 "metadata": {
  "kernelspec": {
   "display_name": "Python 3",
   "language": "python",
   "name": "python3"
  },
  "language_info": {
   "codemirror_mode": {
    "name": "ipython",
    "version": 3
   },
   "file_extension": ".py",
   "mimetype": "text/x-python",
   "name": "python",
   "nbconvert_exporter": "python",
   "pygments_lexer": "ipython3",
   "version": "3.7.4"
  }
 },
 "nbformat": 4,
 "nbformat_minor": 2
}
