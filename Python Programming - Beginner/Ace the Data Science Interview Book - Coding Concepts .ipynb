{
 "cells": [
  {
   "cell_type": "markdown",
   "metadata": {},
   "source": [
    "Arrays:\n",
    "1. Find the cumulative sum of 10 positive even numbers "
   ]
  },
  {
   "cell_type": "code",
   "execution_count": 2,
   "metadata": {},
   "outputs": [],
   "source": [
    "a = [x*2 for x in range(1,11)]"
   ]
  },
  {
   "cell_type": "code",
   "execution_count": 3,
   "metadata": {},
   "outputs": [
    {
     "data": {
      "text/plain": [
       "[2, 4, 6, 8, 10, 12, 14, 16, 18, 20]"
      ]
     },
     "execution_count": 3,
     "metadata": {},
     "output_type": "execute_result"
    }
   ],
   "source": [
    "a"
   ]
  },
  {
   "cell_type": "code",
   "execution_count": 12,
   "metadata": {},
   "outputs": [],
   "source": [
    "c = [sum(a[:x]) for x in range(len(a)+1)]"
   ]
  },
  {
   "cell_type": "code",
   "execution_count": 13,
   "metadata": {},
   "outputs": [
    {
     "data": {
      "text/plain": [
       "[0, 2, 6, 12, 20, 30, 42, 56, 72, 90, 110]"
      ]
     },
     "execution_count": 13,
     "metadata": {},
     "output_type": "execute_result"
    }
   ],
   "source": [
    "c"
   ]
  },
  {
   "cell_type": "markdown",
   "metadata": {},
   "source": [
    "Linked List:\n",
    "1. Reverse a linked list: https://www.geeksforgeeks.org/python-program-for-reverse-a-linked-list/"
   ]
  },
  {
   "cell_type": "code",
   "execution_count": 15,
   "metadata": {},
   "outputs": [],
   "source": [
    "class Node:\n",
    "    def __init__(self, val):\n",
    "        self.val = val\n",
    "        self.next = None\n",
    "    \n",
    "class LinkedList:\n",
    "    def __init__(self):\n",
    "        self.head = None\n",
    "    def reverse(self):\n",
    "        prev = None\n",
    "        curr = self.head\n",
    "        while curr:\n",
    "            next = curr.next \n",
    "            curr.next = prev\n",
    "            prev = curr\n",
    "            curr = next\n",
    "        self.head = prev "
   ]
  },
  {
   "cell_type": "code",
   "execution_count": 16,
   "metadata": {
    "collapsed": true
   },
   "outputs": [
    {
     "ename": "AttributeError",
     "evalue": "'LinkedList' object has no attribute 'head'",
     "output_type": "error",
     "traceback": [
      "\u001b[1;31m---------------------------------------------------------------------------\u001b[0m",
      "\u001b[1;31mAttributeError\u001b[0m                            Traceback (most recent call last)",
      "\u001b[1;32m<ipython-input-16-3ef12c8e6477>\u001b[0m in \u001b[0;36m<module>\u001b[1;34m\u001b[0m\n\u001b[1;32m----> 1\u001b[1;33m \u001b[0mllist\u001b[0m \u001b[1;33m=\u001b[0m \u001b[0mLinkedList\u001b[0m\u001b[1;33m(\u001b[0m\u001b[1;33m)\u001b[0m\u001b[1;33m\u001b[0m\u001b[1;33m\u001b[0m\u001b[0m\n\u001b[0m\u001b[0;32m      2\u001b[0m \u001b[0mllist\u001b[0m\u001b[1;33m.\u001b[0m\u001b[0mreverse\u001b[0m\u001b[1;33m(\u001b[0m\u001b[1;33m)\u001b[0m\u001b[1;33m\u001b[0m\u001b[1;33m\u001b[0m\u001b[0m\n",
      "\u001b[1;32m<ipython-input-15-99d835547130>\u001b[0m in \u001b[0;36m__init__\u001b[1;34m(self)\u001b[0m\n\u001b[0;32m      6\u001b[0m \u001b[1;32mclass\u001b[0m \u001b[0mLinkedList\u001b[0m\u001b[1;33m:\u001b[0m\u001b[1;33m\u001b[0m\u001b[1;33m\u001b[0m\u001b[0m\n\u001b[0;32m      7\u001b[0m     \u001b[1;32mdef\u001b[0m \u001b[0m__init__\u001b[0m\u001b[1;33m(\u001b[0m\u001b[0mself\u001b[0m\u001b[1;33m)\u001b[0m\u001b[1;33m:\u001b[0m\u001b[1;33m\u001b[0m\u001b[1;33m\u001b[0m\u001b[0m\n\u001b[1;32m----> 8\u001b[1;33m         \u001b[0mcurr\u001b[0m \u001b[1;33m=\u001b[0m \u001b[0mself\u001b[0m\u001b[1;33m.\u001b[0m\u001b[0mhead\u001b[0m\u001b[1;33m\u001b[0m\u001b[1;33m\u001b[0m\u001b[0m\n\u001b[0m\u001b[0;32m      9\u001b[0m         \u001b[1;32mwhile\u001b[0m \u001b[0mcurr\u001b[0m\u001b[1;33m:\u001b[0m\u001b[1;33m\u001b[0m\u001b[1;33m\u001b[0m\u001b[0m\n\u001b[0;32m     10\u001b[0m             \u001b[0mnext\u001b[0m \u001b[1;33m=\u001b[0m \u001b[0mcurr\u001b[0m\u001b[1;33m.\u001b[0m\u001b[0mnext\u001b[0m\u001b[1;33m\u001b[0m\u001b[1;33m\u001b[0m\u001b[0m\n",
      "\u001b[1;31mAttributeError\u001b[0m: 'LinkedList' object has no attribute 'head'"
     ]
    }
   ],
   "source": [
    "llist = LinkedList()\n",
    "llist.reverse()"
   ]
  },
  {
   "cell_type": "markdown",
   "metadata": {},
   "source": [
    "Stacks & Queues:\n",
    "1. Find whether a string is balanced "
   ]
  },
  {
   "cell_type": "code",
   "execution_count": 30,
   "metadata": {},
   "outputs": [],
   "source": [
    "left_side = [\"(\",\"[\",\"{\"]\n",
    "right_side = [\")\", \"]\", \"}\"]\n",
    "def checkBalance(s):\n",
    "\n",
    "    stack = []\n",
    "    for i in s:\n",
    "        if i in left_side:\n",
    "            stack.append(i)\n",
    "        elif i in right_side:\n",
    "            pos = right_side.index(i) \n",
    "            if (len(stack)> 0) and (left_side[pos]== stack[len(stack)-1]):\n",
    "                stack.pop() \n",
    "            else:\n",
    "                return False \n",
    "    if len(stack)==0:\n",
    "        return True\n",
    "    else:\n",
    "        return False "
   ]
  },
  {
   "cell_type": "code",
   "execution_count": 31,
   "metadata": {},
   "outputs": [
    {
     "data": {
      "text/plain": [
       "True"
      ]
     },
     "execution_count": 31,
     "metadata": {},
     "output_type": "execute_result"
    }
   ],
   "source": [
    "checkBalance(\"{[]{()}}\")\n"
   ]
  },
  {
   "cell_type": "markdown",
   "metadata": {},
   "source": [
    "Hash Map:\n",
    "1. Determine whether an array contains two elements that sums up with other value. For example, array = [3,1,2,4,6,9], sum of 2+9 = 11"
   ]
  },
  {
   "cell_type": "code",
   "execution_count": 32,
   "metadata": {},
   "outputs": [],
   "source": [
    "def check_sum(a, target):\n",
    "    d = {}\n",
    "    for i in a:\n",
    "        if (target -i) in d:\n",
    "            return True\n",
    "        else:\n",
    "            d[i]=i\n",
    "    return False\n"
   ]
  },
  {
   "cell_type": "code",
   "execution_count": 33,
   "metadata": {},
   "outputs": [
    {
     "data": {
      "text/plain": [
       "True"
      ]
     },
     "execution_count": 33,
     "metadata": {},
     "output_type": "execute_result"
    }
   ],
   "source": [
    "a = [3,1,2,4,6,9]\n",
    "target = 11\n",
    "check_sum(a, target)"
   ]
  },
  {
   "cell_type": "markdown",
   "metadata": {},
   "source": [
    "Trees:\n",
    "1. implement an inorder traversal of trees"
   ]
  },
  {
   "cell_type": "code",
   "execution_count": 34,
   "metadata": {},
   "outputs": [],
   "source": [
    "class TreeNode:\n",
    "    def __init__(self, val):\n",
    "        self.val = val \n",
    "        self.left = None\n",
    "        self.right = None\n",
    "        \n",
    "    def inorder(node):\n",
    "        if node is None:\n",
    "            return []\n",
    "        else:\n",
    "            return inorder(node.left)+(node.val)+inorder(node.right)\n",
    "        \n",
    "        "
   ]
  },
  {
   "cell_type": "markdown",
   "metadata": {},
   "source": [
    "Binary Search Trees:\n",
    "1. An example of BST implementation with insertion function"
   ]
  },
  {
   "cell_type": "code",
   "execution_count": 1,
   "metadata": {},
   "outputs": [],
   "source": [
    "class TreeNode:\n",
    "    def __init__(self, val):\n",
    "        self.val = val \n",
    "        self.left = None\n",
    "        self.right = None\n",
    "class BST:\n",
    "    def __init__(self, val):\n",
    "        self.root = TreeNode(val)\n",
    "        \n",
    "    def insert(self, node, val):\n",
    "        if node is not None:\n",
    "            if val <node.val:\n",
    "                if node.left is None:\n",
    "                    node.left = TreeNode(val)\n",
    "                else:\n",
    "                    self.insert(node.left, val)\n",
    "            else:\n",
    "                if node.right is None:\n",
    "                    node.right = TreeNode(val)\n",
    "                else:\n",
    "                    self.insert(node.right, val)\n",
    "        else:\n",
    "            self.root = TreeNode(val)\n",
    "        return "
   ]
  },
  {
   "cell_type": "markdown",
   "metadata": {},
   "source": [
    "Heaps:\n",
    "1. Find the k-largest elements in a list using the heapq python package"
   ]
  },
  {
   "cell_type": "code",
   "execution_count": 2,
   "metadata": {},
   "outputs": [
    {
     "data": {
      "text/plain": [
       "[13, 10, 9, 7, 6]"
      ]
     },
     "execution_count": 2,
     "metadata": {},
     "output_type": "execute_result"
    }
   ],
   "source": [
    "import heapq\n",
    "k = 5\n",
    "a = [13,5,2,6,10,9,7,4,3]\n",
    "heapq.heapify(a)\n",
    "heapq.nlargest(k,a)"
   ]
  },
  {
   "cell_type": "markdown",
   "metadata": {},
   "source": [
    "Graphs:\n",
    "1. Implementation of a graph"
   ]
  },
  {
   "cell_type": "code",
   "execution_count": 3,
   "metadata": {},
   "outputs": [],
   "source": [
    "class Vertex:\n",
    "    def __init__(self,val):\n",
    "        self.val = val\n",
    "        self.neighbors = {}\n",
    "    def add_to_neighbors(self,neighbors,w):\n",
    "        self.neighbors[neighbor]=w\n",
    "    def get_neighbors(self):\n",
    "        return self.neighbors.keys()\n",
    "    \n",
    "class Graph:\n",
    "    def __init__(self):\n",
    "        self.vertices = {}\n",
    "        \n",
    "    def add_vertex(self,val):\n",
    "        new_vertex = Vertex(val)\n",
    "        self.vertices[val] = new_vertex\n",
    "        return new_vertex\n",
    "    def add_edge(self, u, v, weight):\n",
    "        if u not in self.vertices:\n",
    "            self.add_vertex(Vertex(u))\n",
    "        if v not in self.vertices:\n",
    "            self.add_vertex(Vertex(v))\n",
    "        self.vertices[u].add_to_neighbors(self.vertices[v],weight)\n",
    "        \n",
    "    def get_vertex(self,val):\n",
    "        return self.vertices[val]\n",
    "    def get_vertices(self):\n",
    "        return self.vertices.keys()\n",
    "    \n",
    "    def __iter__(self):\n",
    "        return iter(self.vertices)"
   ]
  },
  {
   "cell_type": "markdown",
   "metadata": {},
   "source": [
    "Breadth First Search: \n",
    "An example of BFS implementation using a queue for iterative processing."
   ]
  },
  {
   "cell_type": "code",
   "execution_count": 4,
   "metadata": {},
   "outputs": [],
   "source": [
    "#Start with one node and add it to the queue. For each node in the queue, process the node and add its neighbors to the queue. \n",
    "def bfs(graph,v):\n",
    "    n = len(graph.vertices)\n",
    "    visited = False * (n+1)\n",
    "    queue = []\n",
    "    \n",
    "    queue.append(v)\n",
    "    visited = True\n",
    "    \n",
    "    while queue:\n",
    "        curr = queue.pop(0)\n",
    "        for i in graph.get_vertex(curr):\n",
    "            if visited[i.val]==False:\n",
    "                queue.append(i.val)\n",
    "                visited[i.val] = True\n",
    "    return visited\n",
    "\n",
    "    "
   ]
  },
  {
   "cell_type": "markdown",
   "metadata": {},
   "source": [
    "Depth First Search:\n",
    "An example implementation of DFS. In DFS, you also start with one node, but instead of processing all the neighbors next, you recursively process each neighbor one by one."
   ]
  },
  {
   "cell_type": "code",
   "execution_count": 5,
   "metadata": {},
   "outputs": [],
   "source": [
    "def dfs_helper(graph, v, visited):\n",
    "    visited.add(v)\n",
    "    for neighbor in graph.get_vertex(v).get_neighbors():\n",
    "        if neighbor.val not in visited:\n",
    "            dfs_helper(graph, neighbor.val, visited)\n",
    "    return visited\n",
    "\n",
    "def dfs(graph, v):\n",
    "    visited = set()\n",
    "    return dfs_helper(graph, v, visited)"
   ]
  },
  {
   "cell_type": "markdown",
   "metadata": {},
   "source": [
    "Merge Sort: \n",
    "An example implementation of mergesort that uses a helper function for merging subarrays:"
   ]
  },
  {
   "cell_type": "code",
   "execution_count": 6,
   "metadata": {},
   "outputs": [],
   "source": [
    "def merge_helper(a, low, high, mid):\n",
    "    if len(a)==1:\n",
    "        return a\n",
    "    i = j = k = 0\n",
    "    left = a[:mid]\n",
    "    right = a[mid:]\n",
    "    while i<len(left) and j<len(right):\n",
    "        if left[i]<right[j]:\n",
    "            a[k]=left[i]\n",
    "            i+=1\n",
    "        else:\n",
    "            a[k]=right[j]\n",
    "            j+=1\n",
    "        k+=1\n",
    "        \n",
    "    while i < len(left):\n",
    "        a[k] = left[i]\n",
    "        i+=1\n",
    "        k+=1\n",
    "    while j < len(right):\n",
    "        a[k] = right[j]\n",
    "        j+=1\n",
    "        k+=1\n",
    "    return a\n",
    "\n",
    "def mergesort(a, low, high):\n",
    "    if low >= high:\n",
    "        return a\n",
    "    mid = (low+high)//2\n",
    "    mergesort(a, low, mid)\n",
    "    mergesort(a, mid+1, high)\n",
    "    merge_helper(a, low, high, len(a)//2)\n",
    "    return a "
   ]
  },
  {
   "cell_type": "markdown",
   "metadata": {},
   "source": [
    "Quicksort: An example implementation of quicksort "
   ]
  },
  {
   "cell_type": "code",
   "execution_count": 8,
   "metadata": {},
   "outputs": [],
   "source": [
    "def helper(a, low, high):\n",
    "    i = low-1\n",
    "    pivot = a[high]\n",
    "    for j in range(low,high):\n",
    "        if a[j]<=pivot:\n",
    "            i+=1\n",
    "            a[i],a[j]=a[j],a[i]\n",
    "    a[i+1],a[high] = a[high],a[i+1]\n",
    "    return i+1\n",
    "\n",
    "def quicksort(a, low,high):\n",
    "    if len(a) == 1:\n",
    "        return a\n",
    "    if low < high:\n",
    "        pivot = helper(a, low, high)\n",
    "        quicksort(a, low, pivot-1)\n",
    "        quicksort(a, pivot+1, high)\n",
    "    return a "
   ]
  },
  {
   "cell_type": "markdown",
   "metadata": {},
   "source": [
    "Matrix Multiplication:\n",
    "An example implementation of matrix implementation that give O(N^3)"
   ]
  },
  {
   "cell_type": "code",
   "execution_count": 9,
   "metadata": {},
   "outputs": [],
   "source": [
    "def matrix_multiplication(A,B):\n",
    "    m = [[0 for row in range(len(B[0]))] for col in range(len(A))]\n",
    "    for i in range(len(A)):\n",
    "        for j in range(len(B[0])):\n",
    "            for k in range(len(B)):\n",
    "                m[i][j] = m[i][j]+A[i][k]*B[k][j]\n",
    "    return m"
   ]
  },
  {
   "cell_type": "code",
   "execution_count": null,
   "metadata": {},
   "outputs": [],
   "source": []
  }
 ],
 "metadata": {
  "kernelspec": {
   "display_name": "Python 3",
   "language": "python",
   "name": "python3"
  },
  "language_info": {
   "codemirror_mode": {
    "name": "ipython",
    "version": 3
   },
   "file_extension": ".py",
   "mimetype": "text/x-python",
   "name": "python",
   "nbconvert_exporter": "python",
   "pygments_lexer": "ipython3",
   "version": "3.7.4"
  }
 },
 "nbformat": 4,
 "nbformat_minor": 2
}
