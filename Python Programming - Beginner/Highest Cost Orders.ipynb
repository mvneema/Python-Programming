{
 "cells": [
  {
   "cell_type": "markdown",
   "metadata": {},
   "source": [
    "Highest Cost Orders\n",
    "\n",
    "Find the customer with the highest daily total order cost between 2019-02-01 to 2019-05-01. If customer had more than one order on a certain day, sum the order costs on daily basis. Output their first name, total cost of their items, and the date.\n",
    " \n",
    " For simplicity, you can assume that every first name in the dataset is unique."
   ]
  },
  {
   "cell_type": "code",
   "execution_count": null,
   "metadata": {},
   "outputs": [],
   "source": [
    "# Import your libraries\n",
    "import pandas as pd\n",
    "from datetime import datetime\n",
    "# Start writing code\n",
    "\n",
    "cust_ord_df = pd.merge(customers, orders, left_on=\"id\", right_on=\"cust_id\")\n",
    "cust_ord_df[\"order_date\"] = cust_ord_df[\"order_date\"].apply(pd.to_datetime)\n",
    "\n",
    "timeline_df = cust_ord_df[cust_ord_df['order_date']>='2019-02-01'  and cust_ord_df['order_date']<='2019-05-01']\n",
    "res = pd.Dataframe()\n",
    "res['max_cost'] = timeline_df.groupby([\"first_name\", \"order_date\"])['total_order_cost'].sum()\n",
    "result = result[result.max_cost == result.max_cost.max()]\n",
    "\n"
   ]
  }
 ],
 "metadata": {
  "kernelspec": {
   "display_name": "Python 3",
   "language": "python",
   "name": "python3"
  },
  "language_info": {
   "codemirror_mode": {
    "name": "ipython",
    "version": 3
   },
   "file_extension": ".py",
   "mimetype": "text/x-python",
   "name": "python",
   "nbconvert_exporter": "python",
   "pygments_lexer": "ipython3",
   "version": "3.7.4"
  }
 },
 "nbformat": 4,
 "nbformat_minor": 2
}
